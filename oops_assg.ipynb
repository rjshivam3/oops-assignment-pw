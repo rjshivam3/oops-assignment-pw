{
 "cells": [
  {
   "cell_type": "code",
   "execution_count": null,
   "id": "a77a6266-488f-4a69-921d-1b65e3b57475",
   "metadata": {},
   "outputs": [],
   "source": [
    "#question 1 solved below"
   ]
  },
  {
   "cell_type": "code",
   "execution_count": 14,
   "id": "404b2b0b-8c82-463c-95e7-b856c7b84d8e",
   "metadata": {},
   "outputs": [],
   "source": [
    "class aadharcard:\n",
    "    \n",
    "    def __init__(shiv ,aadhar_no , name, phone_number ):\n",
    "        \n",
    "        shiv.aadhar_no = aadhar_no\n",
    "        shiv.name = name\n",
    "        shiv.phone_number = phone_number\n",
    "        \n",
    "        def return_aadhar_details(shiv):\n",
    "            return shiv.aadhar_no, shiv.name, shiv.phone_number"
   ]
  },
  {
   "cell_type": "code",
   "execution_count": 15,
   "id": "9cdb217d-25ba-4049-a328-03608746d475",
   "metadata": {},
   "outputs": [],
   "source": [
    "shivam = aadharcard(5292588, \"Shivam Rajbhar\", 91378809)"
   ]
  },
  {
   "cell_type": "code",
   "execution_count": 18,
   "id": "484f16b7-f757-48c3-a87d-4b93a19fa74b",
   "metadata": {},
   "outputs": [
    {
     "data": {
      "text/plain": [
       "5292588"
      ]
     },
     "execution_count": 18,
     "metadata": {},
     "output_type": "execute_result"
    }
   ],
   "source": [
    "shivam.aadhar_no"
   ]
  },
  {
   "cell_type": "code",
   "execution_count": null,
   "id": "2ba1f75f-d63e-4f98-8f9b-c05c95055f91",
   "metadata": {},
   "outputs": [],
   "source": [
    "#question 2 solved below"
   ]
  },
  {
   "cell_type": "code",
   "execution_count": 2,
   "id": "63f68a8f-2c68-4d4f-814c-315e301176f9",
   "metadata": {},
   "outputs": [
    {
     "data": {
      "text/plain": [
       "'Inheritance, Polymorphism, Encapsulation and Abstraction'"
      ]
     },
     "execution_count": 2,
     "metadata": {},
     "output_type": "execute_result"
    }
   ],
   "source": [
    "'''Inheritance, Polymorphism, Encapsulation and Abstraction'''"
   ]
  },
  {
   "cell_type": "code",
   "execution_count": 3,
   "id": "85b4bfe4-0370-4019-80b2-faf523b09a8c",
   "metadata": {},
   "outputs": [],
   "source": [
    "#question 3 solved below"
   ]
  },
  {
   "cell_type": "code",
   "execution_count": 10,
   "id": "ab564e8f-9f9e-4950-ac58-db4472037301",
   "metadata": {},
   "outputs": [],
   "source": [
    "class Person:\n",
    "    def __init__(shiv, name, age):\n",
    "        shiv.name = name\n",
    "        shiv.age = age\n",
    "        \n",
    "    def hi(shiv):\n",
    "        print(f\"Hello, my name is {shiv.name} and I am {shiv.age} years old.\")\n"
   ]
  },
  {
   "cell_type": "code",
   "execution_count": 12,
   "id": "ce798de9-e865-43ec-b66c-5a03c2448701",
   "metadata": {},
   "outputs": [],
   "source": [
    "persona=Person(\"Shivam\", 21)"
   ]
  },
  {
   "cell_type": "code",
   "execution_count": 13,
   "id": "05264b85-b788-4c5f-9abc-65e80fed98a1",
   "metadata": {},
   "outputs": [
    {
     "name": "stdout",
     "output_type": "stream",
     "text": [
      "Hello, my name is Shivam and I am 21 years old.\n"
     ]
    }
   ],
   "source": [
    "persona.hi()"
   ]
  },
  {
   "cell_type": "code",
   "execution_count": 14,
   "id": "ef0ac94b-b88c-43c5-8b13-31a9aacab56e",
   "metadata": {},
   "outputs": [],
   "source": [
    "# question 4 solved below"
   ]
  },
  {
   "cell_type": "code",
   "execution_count": 15,
   "id": "883ea27e-cc72-4ac5-ae3e-4dc3ec4f3ba5",
   "metadata": {},
   "outputs": [],
   "source": [
    "class Person:\n",
    "    def __init__(self, name, age):\n",
    "        self.name = name\n",
    "        self.age = age\n",
    "        \n",
    "    def hi(self):\n",
    "        print(f\"Hello, my name is {self.name} and I am {self.age} years old.\")"
   ]
  },
  {
   "cell_type": "code",
   "execution_count": 16,
   "id": "318c2292-0cd2-4cd5-b411-3df19502bca4",
   "metadata": {},
   "outputs": [],
   "source": [
    "persona=Person(\"Shivam\", 21)"
   ]
  },
  {
   "cell_type": "code",
   "execution_count": 17,
   "id": "55c17fb7-dde1-4cdb-bffa-9856dd57fcf9",
   "metadata": {},
   "outputs": [
    {
     "name": "stdout",
     "output_type": "stream",
     "text": [
      "Hello, my name is Shivam and I am 21 years old.\n"
     ]
    }
   ],
   "source": [
    "persona.hi()"
   ]
  },
  {
   "cell_type": "code",
   "execution_count": 18,
   "id": "ec71aeb1-7094-4cf6-b5c0-699a4127ae2b",
   "metadata": {},
   "outputs": [],
   "source": [
    "# question 5 solved below"
   ]
  },
  {
   "cell_type": "code",
   "execution_count": 19,
   "id": "679e5575-0c29-462a-8274-bc9b4343b86a",
   "metadata": {},
   "outputs": [
    {
     "name": "stdout",
     "output_type": "stream",
     "text": [
      "this is function one\n",
      " this is function 2 \n"
     ]
    }
   ],
   "source": [
    "'SINGLE INHERITANCE'\n",
    "\n",
    "class Parent:\n",
    "     def func1(self):\n",
    "          print(\"this is function one\")\n",
    "class Child(Parent):\n",
    "     def func2(self):\n",
    "          print(\" this is function 2 \")\n",
    "ob = Child()\n",
    "ob.func1()\n",
    "ob.func2()"
   ]
  },
  {
   "cell_type": "code",
   "execution_count": 21,
   "id": "193f30fd-b5fa-41a8-b02c-08b7dd6ee302",
   "metadata": {},
   "outputs": [
    {
     "name": "stdout",
     "output_type": "stream",
     "text": [
      "this is function 1\n",
      "this is function 2\n",
      "this is function 3\n"
     ]
    }
   ],
   "source": [
    "'MULTI LEVEL INHERITANCE'\n",
    "\n",
    "class Parent:\n",
    "      def func1(self):\n",
    "          print(\"this is function 1\")\n",
    "class Child(Parent):\n",
    "      def func2(self):\n",
    "          print(\"this is function 2\")\n",
    "class Child2(Child):\n",
    "      def func3(self):\n",
    "            print(\"this is function 3\")\n",
    "ob = Child2()\n",
    "ob.func1()\n",
    "ob.func2()\n",
    "ob.func3()"
   ]
  },
  {
   "cell_type": "code",
   "execution_count": 22,
   "id": "694b9ff1-e8eb-408b-98fa-7e53cdc4ec10",
   "metadata": {},
   "outputs": [
    {
     "name": "stdout",
     "output_type": "stream",
     "text": [
      "this is function 1\n",
      "this is function 2\n",
      "this is function 3\n"
     ]
    }
   ],
   "source": [
    "'MULTIPLE INHERITANCE'\n",
    "\n",
    "class Parent:\n",
    "   def func1(self):\n",
    "        print(\"this is function 1\")\n",
    "class Parent2:\n",
    "   def func2(self):\n",
    "        print(\"this is function 2\")\n",
    "class Child(Parent , Parent2):\n",
    "    def func3(self):\n",
    "        print(\"this is function 3\")\n",
    " \n",
    "ob = Child()\n",
    "ob.func1()\n",
    "ob.func2()\n",
    "ob.func3()"
   ]
  },
  {
   "cell_type": "code",
   "execution_count": null,
   "id": "62950849-aebc-4f05-971a-28fc9d50fa27",
   "metadata": {},
   "outputs": [],
   "source": []
  }
 ],
 "metadata": {
  "kernelspec": {
   "display_name": "Python 3 (ipykernel)",
   "language": "python",
   "name": "python3"
  },
  "language_info": {
   "codemirror_mode": {
    "name": "ipython",
    "version": 3
   },
   "file_extension": ".py",
   "mimetype": "text/x-python",
   "name": "python",
   "nbconvert_exporter": "python",
   "pygments_lexer": "ipython3",
   "version": "3.10.8"
  }
 },
 "nbformat": 4,
 "nbformat_minor": 5
}
